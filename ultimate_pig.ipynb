{
 "cells": [
  {
   "cell_type": "code",
   "execution_count": 1,
   "metadata": {
    "collapsed": true
   },
   "outputs": [],
   "source": [
    "import matplotlib.pyplot as plt\n",
    "import math\n",
    "import random\n",
    "import statistics as st"
   ]
  },
  {
   "cell_type": "code",
   "execution_count": 2,
   "metadata": {
    "collapsed": true
   },
   "outputs": [],
   "source": [
    "%matplotlib inline"
   ]
  },
  {
   "cell_type": "code",
   "execution_count": 3,
   "metadata": {
    "collapsed": false
   },
   "outputs": [],
   "source": [
    "def roll_die():\n",
    "    return random.randint(1,6)\n",
    "\n",
    "\n",
    "class Player:\n",
    "    \"\"\"\n",
    "    Responsibilities:\n",
    "    Keep track of score and number of rolls\n",
    "    Determine if player should roll again based on current state\n",
    "    Run through a complete turn\n",
    "    - \n",
    "    \"\"\"\n",
    "    \n",
    "    def __init__(self):\n",
    "        self.points = 0\n",
    "        self.reset()\n",
    "    \n",
    "    def reset(self):\n",
    "        self.points = 0\n",
    "        self.rolls = 0\n",
    "    \n",
    "    def should_roll_again(self):\n",
    "        \"\"\"\n",
    "        Returns True if the Player should roll again, False otherwise\n",
    "        This method should probably be overridden with subclasses to do more complex stuff!\n",
    "        \"\"\"\n",
    "        return False\n",
    "    \n",
    "    def play_turn(self):\n",
    "        self.reset()\n",
    "        \n",
    "        while True:\n",
    "            roll = roll_die()\n",
    "            self.rolls += 1\n",
    "            if roll == 1:\n",
    "                break\n",
    "            else:\n",
    "                self.points += roll\n",
    "            if not self.should_roll_again():\n",
    "                break\n",
    "        \n",
    "        return self.points\n",
    "    \n",
    "    \n",
    "   \n",
    "    \n"
   ]
  },
  {
   "cell_type": "code",
   "execution_count": 5,
   "metadata": {
    "collapsed": false
   },
   "outputs": [],
   "source": [
    "class CautiousPlayer(Player):\n",
    "    # You only need to roll \n",
    "        def should_roll_again(self):\n",
    "            if self.rolls < 2:\n",
    "                return True\n",
    "            else:\n",
    "                return False\n",
    "        \n",
    "class AggressivePlayer(Player):\n",
    "        def should_roll_again(self):\n",
    "            if self.rolls < 5:\n",
    "                return True\n",
    "            else:\n",
    "                return False"
   ]
  },
  {
   "cell_type": "code",
   "execution_count": 6,
   "metadata": {
    "collapsed": true
   },
   "outputs": [],
   "source": [
    "class PigSolitaireGame:\n",
    "    \"\"\"\n",
    "    Responsibilities:\n",
    "    Run a game\n",
    "    Keep track of total points over 7 turns\n",
    "    \n",
    "    Collaborators:\n",
    "    Player (or subclass)\n",
    "    \"\"\"\n",
    "    def __init__(self, player):\n",
    "        self.player = player\n",
    "    \n",
    "    def play_game(self):\n",
    "        total_points = 0\n",
    "        for _ in range(7):\n",
    "            total_points += self.player.play_turn()\n",
    "        \n",
    "        return total_points"
   ]
  },
  {
   "cell_type": "code",
   "execution_count": 7,
   "metadata": {
    "collapsed": false
   },
   "outputs": [],
   "source": [
    "\n",
    "game = PigSolitaireGame(CautiousPlayer())\n",
    "game.play_game()\n",
    "\n",
    "cautious_data = [game.play_game() for x in range(1000)]\n",
    "x_values = [x for x in range(1000)]"
   ]
  },
  {
   "cell_type": "code",
   "execution_count": 8,
   "metadata": {
    "collapsed": false
   },
   "outputs": [
    {
     "data": {
      "image/png": "[encoded data removed]",
      "text/plain": [
       "<matplotlib.figure.Figure at 0x112b406a0>"
      ]
     },
     "metadata": {},
     "output_type": "display_data"
    }
   ],
   "source": [
    "\n",
    "plt.hist(cautious_data, bins = 50)\n",
    "ymin, ymax = plt.ylim()\n",
    "\n",
    "plt.title(\"Cautious Player Data - 1000 Games\")\n",
    "plt.xlabel(\"Points \")\n",
    "plt.ylabel(\"Frequency\")\n",
    "plt.show()"
   ]
  },
  {
   "cell_type": "code",
   "execution_count": 9,
   "metadata": {
    "collapsed": false
   },
   "outputs": [],
   "source": [
    "game = PigSolitaireGame(AggressivePlayer())\n",
    "game.play_game()\n",
    "\n",
    "aggressive_data = [game.play_game() for x in range(1000)]\n",
    "x_values = [x for x in range(1000)]"
   ]
  },
  {
   "cell_type": "code",
   "execution_count": 10,
   "metadata": {
    "collapsed": false
   },
   "outputs": [
    {
     "data": {
      "image/png": "[encoded data removed]",
      "text/plain": [
       "<matplotlib.figure.Figure at 0x112d00908>"
      ]
     },
     "metadata": {},
     "output_type": "display_data"
    }
   ],
   "source": [
    "plt.hist(aggressive_data, bins = 50)\n",
    "ymin, ymax = plt.ylim()\n",
    "\n",
    "plt.title(\"Aggressive Player Data - 1000 Games\")\n",
    "plt.xlabel(\"Points \")\n",
    "plt.ylabel(\"Frequency\")\n",
    "plt.show()"
   ]
  },
  {
   "cell_type": "code",
   "execution_count": null,
   "metadata": {
    "collapsed": true
   },
   "outputs": [],
   "source": [
    "\n",
    "    "
   ]
  }
 ],
 "metadata": {
  "kernelspec": {
   "display_name": "Python 3",
   "language": "python",
   "name": "python3"
  },
  "language_info": {
   "codemirror_mode": {
    "name": "ipython",
    "version": 3
   },
   "file_extension": ".py",
   "mimetype": "text/x-python",
   "name": "python",
   "nbconvert_exporter": "python",
   "pygments_lexer": "ipython3",
   "version": "3.4.3"
  }
 },
 "nbformat": 4,
 "nbformat_minor": 0
}
